{
 "cells": [
  {
   "cell_type": "markdown",
   "metadata": {},
   "source": [
    "#### ATM deposit and withdraw amount program and printing balance amount (using global variable)"
   ]
  },
  {
   "cell_type": "code",
   "execution_count": 5,
   "metadata": {},
   "outputs": [
    {
     "name": "stdout",
     "output_type": "stream",
     "text": [
      "Enter deposit amount: 10000\n",
      "10000\n",
      "Enter withdrawal amount: 2000\n",
      "8000\n"
     ]
    }
   ],
   "source": [
    "balance = 0\n",
    "\n",
    "def deposit(amt):\n",
    "    global balance\n",
    "    balance += amt\n",
    "    return balance\n",
    "\n",
    "def withdraw(amt):\n",
    "    global balance\n",
    "    balance -= amt\n",
    "    return balance\n",
    "\n",
    "data1 = int(input(\"Enter deposit amount: \"))\n",
    "dep = deposit(data1)\n",
    "print(dep)\n",
    "\n",
    "data2 = int(input(\"Enter withdrawal amount: \"))\n",
    "draw = withdraw(data2)\n",
    "print(draw)"
   ]
  },
  {
   "cell_type": "markdown",
   "metadata": {},
   "source": [
    "#### City selection "
   ]
  },
  {
   "cell_type": "code",
   "execution_count": 17,
   "metadata": {},
   "outputs": [
    {
     "name": "stdout",
     "output_type": "stream",
     "text": [
      "Enter your City: Pune\n",
      "True\n"
     ]
    }
   ],
   "source": [
    "def my_city(cities):\n",
    "    my_list = [\"Delhi\", \"Noida\", \"Gurgaon\", \"Jaipur\", \"Pune\"]\n",
    "    \n",
    "    if cities in my_list:\n",
    "        return True\n",
    "    else:\n",
    "        return False   \n",
    "    \n",
    "x = my_city(input(\"Enter your City: \"))\n",
    "print(x)"
   ]
  },
  {
   "cell_type": "code",
   "execution_count": null,
   "metadata": {},
   "outputs": [],
   "source": []
  }
 ],
 "metadata": {
  "kernelspec": {
   "display_name": "Python 3",
   "language": "python",
   "name": "python3"
  },
  "language_info": {
   "codemirror_mode": {
    "name": "ipython",
    "version": 3
   },
   "file_extension": ".py",
   "mimetype": "text/x-python",
   "name": "python",
   "nbconvert_exporter": "python",
   "pygments_lexer": "ipython3",
   "version": "3.8.3"
  }
 },
 "nbformat": 4,
 "nbformat_minor": 4
}
