{
 "cells": [
  {
   "cell_type": "code",
   "execution_count": 2,
   "metadata": {},
   "outputs": [
    {
     "name": "stdout",
     "output_type": "stream",
     "text": [
      "Hi I'm Joy\n",
      "I am eligible to vote\n"
     ]
    }
   ],
   "source": [
    "class Person:\n",
    "    \n",
    "    def __init__(self):\n",
    "        self.name = \"Joy\"\n",
    "        self.gender = \"Male\"\n",
    "        self.age = 25\n",
    "    \n",
    "    def talk(self):\n",
    "        print(\"Hi I'm\", self.name)\n",
    "        \n",
    "    def vote(self):\n",
    "        if self.age<18 :\n",
    "            print(\"I am not eligible to vote\")\n",
    "        else: \n",
    "            print(\"I am eligible to vote\")\n",
    "\n",
    "obj = Person()\n",
    "#---------------------------------------\n",
    "#Person.talk(obj)\n",
    "#Person.vote(obj)\n",
    "\n",
    "###----output same as below ----- \n",
    "\n",
    "#obj.talk()\n",
    "#obj.vote()\n",
    "#---------------------------------------"
   ]
  },
  {
   "cell_type": "markdown",
   "metadata": {},
   "source": [
    "# Passing values into Constructor"
   ]
  },
  {
   "cell_type": "code",
   "execution_count": 10,
   "metadata": {},
   "outputs": [
    {
     "name": "stdout",
     "output_type": "stream",
     "text": [
      "Joy Simran\n",
      "Hi I'm Joy\n",
      "I am eligible to vote\n",
      "Hi I'm Simran\n",
      "I am not eligible to vote\n"
     ]
    }
   ],
   "source": [
    "class Person:\n",
    "    \n",
    "    def __init__(self, n, g, a):\n",
    "        self.name = n\n",
    "        self.gender = g\n",
    "        self.age = a\n",
    "    \n",
    "    def talk(self):\n",
    "        print(\"Hi I'm\", self.name)\n",
    "        \n",
    "    def vote(self):\n",
    "        if self.age<18 :\n",
    "            print(\"I am not eligible to vote\")\n",
    "        else: \n",
    "            print(\"I am eligible to vote\")\n",
    "\n",
    "obj1 = Person(\"Joy\", \"Male\", 30)\n",
    "obj2 = Person(\"Simran\", \"Female\", 15)\n",
    "\n",
    "print(obj1.name, obj2.name)\n",
    "\n",
    "obj1.talk()\n",
    "obj1.vote()\n",
    "\n",
    "obj2.talk()\n",
    "obj2.vote()"
   ]
  },
  {
   "cell_type": "code",
   "execution_count": null,
   "metadata": {},
   "outputs": [],
   "source": []
  }
 ],
 "metadata": {
  "kernelspec": {
   "display_name": "Python 3",
   "language": "python",
   "name": "python3"
  },
  "language_info": {
   "codemirror_mode": {
    "name": "ipython",
    "version": 3
   },
   "file_extension": ".py",
   "mimetype": "text/x-python",
   "name": "python",
   "nbconvert_exporter": "python",
   "pygments_lexer": "ipython3",
   "version": "3.8.3"
  }
 },
 "nbformat": 4,
 "nbformat_minor": 4
}
