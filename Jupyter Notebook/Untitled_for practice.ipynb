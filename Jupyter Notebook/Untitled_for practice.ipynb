{
 "cells": [
  {
   "cell_type": "code",
   "execution_count": 11,
   "metadata": {},
   "outputs": [
    {
     "name": "stdout",
     "output_type": "stream",
     "text": [
      "Hello, My name is Joy\n",
      "Errrr....you can't vote smallie dolly\n"
     ]
    }
   ],
   "source": [
    "class Student:\n",
    "    def __init__(self):\n",
    "        self.name = 'Joy'\n",
    "        self.age = 10\n",
    "        self.sex ='Male'\n",
    "    \n",
    "    def talk(self):\n",
    "        print(\"Hello, My name is\", self.name)\n",
    "    \n",
    "    def vote(self):\n",
    "        if self.age > 18:\n",
    "            print(\"You're eligible to vote as your \"+ str(self.age) +\"and is above 18\")\n",
    "        else:\n",
    "            print(\"Errrr....you can't vote smallie dolly\") \n",
    "\n",
    "obj = Student()\n",
    "obj.talk()\n",
    "obj.vote()"
   ]
  },
  {
   "cell_type": "code",
   "execution_count": 10,
   "metadata": {},
   "outputs": [
    {
     "name": "stdout",
     "output_type": "stream",
     "text": [
      "Email id is harshad.shringi@gmail.com\n"
     ]
    }
   ],
   "source": [
    "class Employee:\n",
    "    \n",
    "    def __init__(self, name, id):\n",
    "        self.name = name\n",
    "        self.id = id\n",
    "        \n",
    "    def email(self):\n",
    "        print(\"Email id is\", self.id +\"@gmail.com\")\n",
    "\n",
    "obj = Employee('Joy', 'harshad.shringi')\n",
    "obj.email()"
   ]
  },
  {
   "cell_type": "code",
   "execution_count": null,
   "metadata": {},
   "outputs": [],
   "source": []
  }
 ],
 "metadata": {
  "kernelspec": {
   "display_name": "Python 3",
   "language": "python",
   "name": "python3"
  },
  "language_info": {
   "codemirror_mode": {
    "name": "ipython",
    "version": 3
   },
   "file_extension": ".py",
   "mimetype": "text/x-python",
   "name": "python",
   "nbconvert_exporter": "python",
   "pygments_lexer": "ipython3",
   "version": "3.8.3"
  }
 },
 "nbformat": 4,
 "nbformat_minor": 4
}
