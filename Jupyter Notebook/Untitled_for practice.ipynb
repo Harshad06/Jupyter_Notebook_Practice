{
 "cells": [
  {
   "cell_type": "code",
   "execution_count": 11,
   "metadata": {},
   "outputs": [
    {
     "name": "stdout",
     "output_type": "stream",
     "text": [
      "Hello, My name is Joy\n",
      "Errrr....you can't vote smallie dolly\n"
     ]
    }
   ],
   "source": [
    "class Student:\n",
    "    def __init__(self):\n",
    "        self.name = 'Joy'\n",
    "        self.age = 10\n",
    "        self.sex ='Male'\n",
    "    \n",
    "    def talk(self):\n",
    "        print(\"Hello, My name is\", self.name)\n",
    "    \n",
    "    def vote(self):\n",
    "        if self.age > 18:\n",
    "            print(\"You're eligible to vote as your \"+ str(self.age) +\"and is above 18\")\n",
    "        else:\n",
    "            print(\"Errrr....you can't vote smallie dolly\") \n",
    "\n",
    "obj = Student()\n",
    "obj.talk()\n",
    "obj.vote()"
   ]
  },
  {
   "cell_type": "code",
   "execution_count": 10,
   "metadata": {},
   "outputs": [
    {
     "name": "stdout",
     "output_type": "stream",
     "text": [
      "Email id is harshad.shringi@gmail.com\n"
     ]
    }
   ],
   "source": [
    "class Employee:\n",
    "    \n",
    "    def __init__(self, name, id):\n",
    "        self.name = name\n",
    "        self.id = id\n",
    "        \n",
    "    def email(self):\n",
    "        print(\"Email id is\", self.id +\"@gmail.com\")\n",
    "\n",
    "obj = Employee('Joy', 'harshad.shringi')\n",
    "obj.email()"
   ]
  },
  {
   "cell_type": "code",
   "execution_count": 3,
   "metadata": {},
   "outputs": [
    {
     "name": "stdout",
     "output_type": "stream",
     "text": [
      "Enter your name :- \n",
      "Harshad\n",
      "Enter your age :- \n",
      "30\n",
      "Name is Harshad\n",
      "Age is  30\n"
     ]
    }
   ],
   "source": [
    "class Human:\n",
    "    name = None\n",
    "    age = None\n",
    "    \n",
    "    def get_name(self):\n",
    "        print(\"Enter your name :- \")\n",
    "        self.name = input()\n",
    "       \n",
    "    def get_age(self):\n",
    "        print(\"Enter your age :- \")\n",
    "        self.age = input()\n",
    "    \n",
    "    def put_name(self):\n",
    "        print(\"Name is\", self.name)\n",
    "        \n",
    "    def put_age(self):\n",
    "        print(\"Age is \", self.age)\n",
    "\n",
    "obj = Human()\n",
    "\n",
    "obj.get_name()\n",
    "obj.get_age()\n",
    "\n",
    "obj.put_name()\n",
    "obj.put_age()"
   ]
  },
  {
   "cell_type": "code",
   "execution_count": 4,
   "metadata": {},
   "outputs": [
    {
     "name": "stdout",
     "output_type": "stream",
     "text": [
      "This is the Parent class `Fruit`\n",
      "This is the child class `Citrus`\n"
     ]
    }
   ],
   "source": [
    "# Inheritance:-\n",
    "\n",
    "class Fruit:\n",
    "    def __init__(self):\n",
    "        print(\"This is the Parent class `Fruit`\")\n",
    "\n",
    "class Citrus(Fruit):\n",
    "     def __init__(self):\n",
    "        super().__init__()\n",
    "        print(\"This is the child class `Citrus`\")\n",
    "\n",
    "Lemon = Citrus()"
   ]
  },
  {
   "cell_type": "code",
   "execution_count": 8,
   "metadata": {},
   "outputs": [
    {
     "data": {
      "text/html": [
       "<div>\n",
       "<style scoped>\n",
       "    .dataframe tbody tr th:only-of-type {\n",
       "        vertical-align: middle;\n",
       "    }\n",
       "\n",
       "    .dataframe tbody tr th {\n",
       "        vertical-align: top;\n",
       "    }\n",
       "\n",
       "    .dataframe thead th {\n",
       "        text-align: right;\n",
       "    }\n",
       "</style>\n",
       "<table border=\"1\" class=\"dataframe\">\n",
       "  <thead>\n",
       "    <tr style=\"text-align: right;\">\n",
       "      <th></th>\n",
       "      <th>0</th>\n",
       "    </tr>\n",
       "  </thead>\n",
       "  <tbody>\n",
       "    <tr>\n",
       "      <th>1</th>\n",
       "      <td>1</td>\n",
       "    </tr>\n",
       "    <tr>\n",
       "      <th>2</th>\n",
       "      <td>2</td>\n",
       "    </tr>\n",
       "    <tr>\n",
       "      <th>3</th>\n",
       "      <td>3</td>\n",
       "    </tr>\n",
       "    <tr>\n",
       "      <th>4</th>\n",
       "      <td>4</td>\n",
       "    </tr>\n",
       "    <tr>\n",
       "      <th>5</th>\n",
       "      <td>5</td>\n",
       "    </tr>\n",
       "  </tbody>\n",
       "</table>\n",
       "</div>"
      ],
      "text/plain": [
       "   0\n",
       "1  1\n",
       "2  2\n",
       "3  3\n",
       "4  4\n",
       "5  5"
      ]
     },
     "execution_count": 8,
     "metadata": {},
     "output_type": "execute_result"
    }
   ],
   "source": [
    "import pandas as pd\n",
    "import numpy as np\n",
    "\n",
    "l1 = np.array([1,2,3,4,5])\n",
    "df = pd.DataFrame(l1, [1,2,3,4,5])\n",
    "df"
   ]
  },
  {
   "cell_type": "code",
   "execution_count": 10,
   "metadata": {},
   "outputs": [
    {
     "data": {
      "text/html": [
       "<div>\n",
       "<style scoped>\n",
       "    .dataframe tbody tr th:only-of-type {\n",
       "        vertical-align: middle;\n",
       "    }\n",
       "\n",
       "    .dataframe tbody tr th {\n",
       "        vertical-align: top;\n",
       "    }\n",
       "\n",
       "    .dataframe thead th {\n",
       "        text-align: right;\n",
       "    }\n",
       "</style>\n",
       "<table border=\"1\" class=\"dataframe\">\n",
       "  <thead>\n",
       "    <tr style=\"text-align: right;\">\n",
       "      <th></th>\n",
       "      <th>fruit</th>\n",
       "      <th>count</th>\n",
       "    </tr>\n",
       "  </thead>\n",
       "  <tbody>\n",
       "    <tr>\n",
       "      <th>a</th>\n",
       "      <td>mango</td>\n",
       "      <td>12</td>\n",
       "    </tr>\n",
       "    <tr>\n",
       "      <th>b</th>\n",
       "      <td>banana</td>\n",
       "      <td>24</td>\n",
       "    </tr>\n",
       "    <tr>\n",
       "      <th>c</th>\n",
       "      <td>apple</td>\n",
       "      <td>36</td>\n",
       "    </tr>\n",
       "  </tbody>\n",
       "</table>\n",
       "</div>"
      ],
      "text/plain": [
       "    fruit  count\n",
       "a   mango     12\n",
       "b  banana     24\n",
       "c   apple     36"
      ]
     },
     "execution_count": 10,
     "metadata": {},
     "output_type": "execute_result"
    }
   ],
   "source": [
    "dict_1 = {'fruit':['mango','banana','apple'],\n",
    "          'count':[12,24,36]}\n",
    "df_1 = pd.DataFrame(dict_1, ['a','b','c'])\n",
    "df_1"
   ]
  },
  {
   "cell_type": "code",
   "execution_count": null,
   "metadata": {},
   "outputs": [],
   "source": [
    "### Lambda Function:\n",
    "##  It is an Anonymous function\n",
    "\n",
    "lambda a: a+10\n",
    "\n",
    "x = lambda a: a+10\n",
    "x(10)"
   ]
  },
  {
   "cell_type": "code",
   "execution_count": 5,
   "metadata": {},
   "outputs": [
    {
     "data": {
      "text/plain": [
       "Text(0.5, 1.0, '(x=y) straight line graph')"
      ]
     },
     "execution_count": 5,
     "metadata": {},
     "output_type": "execute_result"
    },
    {
     "data": {
      "image/png": "[encoded data removed]",
      "text/plain": [
       "<Figure size 432x288 with 1 Axes>"
      ]
     },
     "metadata": {
      "needs_background": "light"
     },
     "output_type": "display_data"
    }
   ],
   "source": [
    "#Matplotlib graph\n",
    "\n",
    "import numpy as np\n",
    "import matplotlib.pyplot as plt\n",
    "\n",
    "x = np.arange(0,11,1)\n",
    "x\n",
    "\n",
    "y = np.arange(0,11,1)\n",
    "y\n",
    "\n",
    "plt.plot(x,y)\n",
    "plt.xlabel(\"x-axis\")\n",
    "plt.ylabel(\"y-axis\")\n",
    "plt.title(\"(x=y) straight line graph\")"
   ]
  },
  {
   "cell_type": "code",
   "execution_count": 14,
   "metadata": {},
   "outputs": [
    {
     "data": {
      "text/plain": [
       "<BarContainer object of 4 artists>"
      ]
     },
     "execution_count": 14,
     "metadata": {},
     "output_type": "execute_result"
    },
    {
     "data": {
      "image/png": "[encoded data removed]",
      "text/plain": [
       "<Figure size 432x288 with 1 Axes>"
      ]
     },
     "metadata": {
      "needs_background": "light"
     },
     "output_type": "display_data"
    }
   ],
   "source": [
    "#Barplot\n",
    "\n",
    "data = {\"Apple\": 100, \"Banana\": 20, \"Orange\": 60, \"Pineapple\": 50}\n",
    "data.keys()\n",
    "data.values()\n",
    "\n",
    "names = list(data.keys())\n",
    "values = list(data.values())\n",
    "\n",
    "plt.bar(names, values, color='r')"
   ]
  },
  {
   "cell_type": "code",
   "execution_count": 16,
   "metadata": {},
   "outputs": [
    {
     "data": {
      "text/plain": [
       "['am', 'a', 'programmer', 'python', 'I']"
      ]
     },
     "execution_count": 16,
     "metadata": {},
     "output_type": "execute_result"
    }
   ],
   "source": [
    "from random import shuffle\n",
    "\n",
    "x = ['I', 'am', 'a', 'python', 'programmer']\n",
    "shuffle(x)\n",
    "x"
   ]
  },
  {
   "cell_type": "code",
   "execution_count": 24,
   "metadata": {},
   "outputs": [
    {
     "name": "stdout",
     "output_type": "stream",
     "text": [
      "P\n",
      "y\n",
      "t\n",
      "h\n",
      "o\n",
      "n\n",
      "_\n",
      "P\n",
      "r\n",
      "o\n",
      "g\n",
      "r\n",
      "a\n",
      "m\n",
      "m\n",
      "i\n",
      "n\n",
      "g\n",
      "Length of the string is: 18\n"
     ]
    }
   ],
   "source": [
    "#length of a string without using len() func\n",
    "\n",
    "a = 'Python-Programming'\n",
    "\n",
    "count = 0\n",
    "\n",
    "for i in a:\n",
    "    count+=1\n",
    "    print(i)\n",
    "    \n",
    "print(\"Length of the string is:\", count)"
   ]
  },
  {
   "cell_type": "code",
   "execution_count": 33,
   "metadata": {},
   "outputs": [
    {
     "data": {
      "text/plain": [
       "array([ 0, -1,  2, -1,  4, -1,  6, -1,  8, -1])"
      ]
     },
     "execution_count": 33,
     "metadata": {},
     "output_type": "execute_result"
    }
   ],
   "source": [
    "# Replace all odd no.s in numpy array with \"-1\"\n",
    "\n",
    "import numpy as np\n",
    "\n",
    "arr = np.arange(0,10)\n",
    "arr\n",
    "\n",
    "arr[arr%2 == 1] = -1\n",
    "arr"
   ]
  },
  {
   "cell_type": "code",
   "execution_count": 34,
   "metadata": {},
   "outputs": [
    {
     "data": {
      "text/plain": [
       "array([1, 2, 4, 5, 8])"
      ]
     },
     "execution_count": 34,
     "metadata": {},
     "output_type": "execute_result"
    }
   ],
   "source": [
    "# common items b/w 2 numpy arrays\n",
    "\n",
    "a = np.array([0,1,2,1,2,4,5,6,8,3])\n",
    "b = np.array([7,2,1,5,4,7,9,8,4,2])\n",
    "\n",
    "np.intersect1d(a,b)"
   ]
  },
  {
   "cell_type": "code",
   "execution_count": 40,
   "metadata": {},
   "outputs": [
    {
     "data": {
      "text/plain": [
       "0             I\n",
       "1            Am\n",
       "2             A\n",
       "3        Python\n",
       "4    Programmer\n",
       "dtype: object"
      ]
     },
     "execution_count": 40,
     "metadata": {},
     "output_type": "execute_result"
    }
   ],
   "source": [
    "# Convert each character in pandas series to uppercase\n",
    "\n",
    "import pandas as pd\n",
    "ser = pd.Series(['i','am','a','python','programmer'])\n",
    "ser\n",
    "\n",
    "ser = ser.map(lambda x: x.title())\n",
    "ser"
   ]
  },
  {
   "cell_type": "code",
   "execution_count": 43,
   "metadata": {},
   "outputs": [
    {
     "data": {
      "text/plain": [
       "0     1\n",
       "1     2\n",
       "2     1\n",
       "3     6\n",
       "4    10\n",
       "dtype: int64"
      ]
     },
     "execution_count": 43,
     "metadata": {},
     "output_type": "execute_result"
    }
   ],
   "source": [
    "import pandas as pd\n",
    "ser_1 = pd.Series(['i','am','a','python','programmer'])\n",
    "ser_1.map(lambda a: len(a))\n",
    "\n",
    "ser_1 = ser_1.map(lambda a: len(a))\n",
    "ser_1"
   ]
  },
  {
   "cell_type": "code",
   "execution_count": null,
   "metadata": {},
   "outputs": [],
   "source": []
  }
 ],
 "metadata": {
  "kernelspec": {
   "display_name": "Python 3",
   "language": "python",
   "name": "python3"
  },
  "language_info": {
   "codemirror_mode": {
    "name": "ipython",
    "version": 3
   },
   "file_extension": ".py",
   "mimetype": "text/x-python",
   "name": "python",
   "nbconvert_exporter": "python",
   "pygments_lexer": "ipython3",
   "version": "3.8.3"
  }
 },
 "nbformat": 4,
 "nbformat_minor": 4
}
