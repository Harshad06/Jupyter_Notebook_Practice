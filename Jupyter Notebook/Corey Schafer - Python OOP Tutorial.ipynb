{
 "cells": [
  {
   "cell_type": "markdown",
   "metadata": {},
   "source": [
    "## Python Object Oriented Programming"
   ]
  },
  {
   "cell_type": "markdown",
   "metadata": {},
   "source": [
    "#### Python OOP Tutorial 1: Classes and Instances"
   ]
  },
  {
   "cell_type": "code",
   "execution_count": 1,
   "metadata": {},
   "outputs": [
    {
     "name": "stdout",
     "output_type": "stream",
     "text": [
      "<__main__.Employee object at 0x0000017785D27280>\n",
      "<__main__.Employee object at 0x0000017785D272E0>\n",
      "harshad.shringi@company.com\n",
      "test.user@company.com\n"
     ]
    }
   ],
   "source": [
    "class Employee:\n",
    "    pass\n",
    "    \n",
    "    \n",
    "emp_1 = Employee()    # An Instance of class Employee \n",
    "emp_2 = Employee()    # An Instance of class Employee \n",
    "\n",
    "print(emp_1)\n",
    "print(emp_2)\n",
    "\n",
    "# Instance variables\n",
    "emp_1.first = \"Harshad\"\n",
    "emp_1.last = \"Shringi\"\n",
    "emp_1.email = 'harshad.shringi@company.com'\n",
    "emp_1.pay = 50000\n",
    "\n",
    "emp_2.first = \"Test\"\n",
    "emp_2.last = \"User\"\n",
    "emp_2.email = 'test.user@company.com'\n",
    "emp_2.pay = 60000\n",
    "\n",
    "print(emp_1.email)\n",
    "print(emp_2.email)"
   ]
  },
  {
   "cell_type": "code",
   "execution_count": 2,
   "metadata": {},
   "outputs": [
    {
     "name": "stdout",
     "output_type": "stream",
     "text": [
      "Joy.Shringi@company.com\n",
      "Test.User@company.com\n",
      "Joy Shringi\n",
      "Test User\n"
     ]
    }
   ],
   "source": [
    "class Employee:\n",
    "    \n",
    "    def __init__(self,first,last,pay):    # Here 'self' is the instance and is same as emp1.name (ie self.name)\n",
    "        self.first = first\n",
    "        self.last = last             # you can change the left side variable names, but better to follow convention\n",
    "        self.pay = pay\n",
    "        self.email = first + '.' + last + '@company.com'\n",
    "        \n",
    "    def fullname(self):\n",
    "        return '{} {}'.format(self.first, self.last)\n",
    "    \n",
    "     \n",
    "\n",
    "emp_1 = Employee('Joy','Shringi', 50000)    # An Instance of class Employee \n",
    "emp_2 = Employee('Test','User', 60000)    # An Instance of class Employee \n",
    "\n",
    "#print(emp_1)  #Object gets printed with location\n",
    "#print(emp_2)  #Object gets printed with location\n",
    "\n",
    "print(emp_1.email)\n",
    "print(emp_2.email)\n",
    "\n",
    "print(emp_1.fullname())   # include () with fullname as it is a method NOT of an attribute\n",
    "print(emp_2.fullname())"
   ]
  },
  {
   "cell_type": "code",
   "execution_count": 3,
   "metadata": {},
   "outputs": [
    {
     "name": "stdout",
     "output_type": "stream",
     "text": [
      "Joy Shringi\n"
     ]
    }
   ],
   "source": [
    "# print full name of the employee\n",
    "\n",
    "print('{} {}'.format(emp_1.first, emp_1.last))\n",
    "\n",
    "#fullname method created above for the same"
   ]
  },
  {
   "cell_type": "code",
   "execution_count": 4,
   "metadata": {},
   "outputs": [
    {
     "name": "stdout",
     "output_type": "stream",
     "text": [
      "Joy Shringi\n",
      "Joy Shringi\n"
     ]
    }
   ],
   "source": [
    "print(emp_1.fullname())\n",
    "\n",
    "# Also, to print out the fullname we can use Employee Class as -\n",
    "print(Employee.fullname(emp_1))"
   ]
  },
  {
   "cell_type": "markdown",
   "metadata": {},
   "source": [
    "#### Python OOP Tutorial 2: Class Variables"
   ]
  },
  {
   "cell_type": "code",
   "execution_count": 5,
   "metadata": {},
   "outputs": [
    {
     "name": "stdout",
     "output_type": "stream",
     "text": [
      "2\n"
     ]
    }
   ],
   "source": [
    "class Employee:\n",
    "    \n",
    "    num_of_emps = 0\n",
    "    raise_amount = 1.04\n",
    "    \n",
    "    def __init__(self, first, last, pay):    # Here 'self' is the instance and is same as emp1.name (ie self.name)\n",
    "        self.first = first\n",
    "        self.last = last             # you can change the left side variable names, but better to follow convention\n",
    "        self.pay = pay\n",
    "        self.email = first + '.' + last + '@company.com'\n",
    "        \n",
    "        Employee.num_of_emps += 1\n",
    "    \n",
    "        \n",
    "    def fullname(self):\n",
    "        return '{} {}'.format(self.first, self.last)\n",
    "    \n",
    "    \n",
    "    def apply_raise(self):\n",
    "#         self.pay = int(self.pay * 1.04)     # Hard-coded ---- Not much useful. Instead create a class variable\n",
    "        self.pay = int(self.pay * self.raise_amount)      # same as below\n",
    "#         self.pay = int(self.pay * Employee.raise_amount)\n",
    "\n",
    "\n",
    "emp_1 = Employee('Joy','Shringi', 50000)    # An Instance of class Employee \n",
    "emp_2 = Employee('Test','User', 60000)    # An Instance of class Employee \n",
    "\n",
    "# print(emp_1.pay)\n",
    "# emp_1.apply_raise()\n",
    "# print(emp_1.pay)\n",
    "\n",
    "# print(Employee.raise_amount)\n",
    "# print(emp_1.raise_amount)     # Same as Employee instance value\n",
    "# print(emp_2.raise_amount)  \n",
    "\n",
    "# print(emp_1.pay)\n",
    "# print(emp_2.pay)\n",
    "# # Employee.apply_raise(emp_1)\n",
    "# # Employee.apply_raise(emp_2)\n",
    "# emp_1.apply_raise()         # Same as above \n",
    "# emp_2.apply_raise()\n",
    "# print(emp_1.pay)\n",
    "# print(emp_2.pay)\n",
    "\n",
    "print(Employee.num_of_emps)"
   ]
  },
  {
   "cell_type": "markdown",
   "metadata": {},
   "source": [
    "#Using Dictionaries"
   ]
  },
  {
   "cell_type": "code",
   "execution_count": 7,
   "metadata": {},
   "outputs": [
    {
     "name": "stdout",
     "output_type": "stream",
     "text": [
      "{'__module__': '__main__', 'num_of_emps': 2, 'raise_amount': 1.04, '__init__': <function Employee.__init__ at 0x0000017785D11160>, 'fullname': <function Employee.fullname at 0x0000017785D11A60>, 'apply_raise': <function Employee.apply_raise at 0x0000017785D11B80>, '__dict__': <attribute '__dict__' of 'Employee' objects>, '__weakref__': <attribute '__weakref__' of 'Employee' objects>, '__doc__': None}\n",
      "{'first': 'Joy', 'last': 'Shringi', 'pay': 50000, 'email': 'Joy.Shringi@company.com'}\n",
      "{'first': 'Test', 'last': 'User', 'pay': 60000, 'email': 'Test.User@company.com'}\n"
     ]
    }
   ],
   "source": [
    "print(Employee.__dict__)\n",
    "print(emp_1.__dict__)\n",
    "print(emp_2.__dict__)"
   ]
  },
  {
   "cell_type": "code",
   "execution_count": null,
   "metadata": {},
   "outputs": [],
   "source": [
    "## One thing to note here is when we access instance and assign any attribute to it , it changes its value but the original class Employee value will remain the same.\n",
    "## So it is better to use class variables in case of particular attributes as for raise_amount as that an be applied to a single object/instance."
   ]
  },
  {
   "cell_type": "code",
   "execution_count": 8,
   "metadata": {},
   "outputs": [
    {
     "name": "stdout",
     "output_type": "stream",
     "text": [
      "0\n",
      "2\n"
     ]
    }
   ],
   "source": [
    "class Employee:\n",
    "    \n",
    "    num_of_emps = 0\n",
    "    raise_amount = 1.04\n",
    "    \n",
    "    def __init__(self, first, last, pay):    \n",
    "        self.first = first\n",
    "        self.last = last          \n",
    "        self.pay = pay\n",
    "        self.email = first + '.' + last + '@company.com'\n",
    "        \n",
    "        Employee.num_of_emps += 1\n",
    "    \n",
    "        \n",
    "    def fullname(self):\n",
    "        return '{} {}'.format(self.first, self.last)\n",
    "    \n",
    "    \n",
    "    def apply_raise(self):\n",
    "        self.pay = int(self.pay * self.raise_amount)      \n",
    "\n",
    "print(Employee.num_of_emps)\n",
    "        \n",
    "emp_1 = Employee('Joy','Shringi', 50000)    \n",
    "emp_2 = Employee('Test','User', 60000)    \n",
    "\n",
    "print(Employee.num_of_emps)"
   ]
  },
  {
   "cell_type": "markdown",
   "metadata": {},
   "source": [
    "#### Python OOP Tutorial 3: classmethods and staticmethods"
   ]
  },
  {
   "cell_type": "markdown",
   "metadata": {},
   "source": [
    "### Class methods"
   ]
  },
  {
   "cell_type": "code",
   "execution_count": 10,
   "metadata": {},
   "outputs": [
    {
     "name": "stdout",
     "output_type": "stream",
     "text": [
      "1.05\n",
      "1.05\n",
      "1.05\n"
     ]
    }
   ],
   "source": [
    "class Employee:\n",
    "    \n",
    "    num_of_emps = 0\n",
    "    raise_amt = 1.04\n",
    "    \n",
    "    def __init__(self, first, last, pay):    \n",
    "        self.first = first\n",
    "        self.last = last          \n",
    "        self.pay = pay\n",
    "        self.email = first + '.' + last + '@company.com'\n",
    "        \n",
    "        Employee.num_of_emps += 1\n",
    "    \n",
    "        \n",
    "    def fullname(self):\n",
    "        return '{} {}'.format(self.first, self.last)\n",
    "    \n",
    "    \n",
    "    def apply_raise(self):\n",
    "        self.pay = int(self.pay * self.raise_amount)      \n",
    "        \n",
    "        \n",
    "    @classmethod\n",
    "    def set_raise_amt(cls, amount):\n",
    "        cls.raise_amt = amount\n",
    "\n",
    "Employee.set_raise_amt(1.05)     #you can run classmethods from Class as well as instances\n",
    "\n",
    "        \n",
    "emp_1 = Employee('Joy','Shringi', 50000)    \n",
    "emp_2 = Employee('Test','User', 60000)    \n",
    "\n",
    "print(Employee.raise_amt)\n",
    "print(emp_1.raise_amt)\n",
    "print(emp_2.raise_amt)"
   ]
  },
  {
   "cell_type": "code",
   "execution_count": 21,
   "metadata": {},
   "outputs": [
    {
     "name": "stdout",
     "output_type": "stream",
     "text": [
      "John.Doe@company.com\n",
      "70000\n"
     ]
    }
   ],
   "source": [
    "class Employee:\n",
    "    \n",
    "    num_of_emps = 0\n",
    "    raise_amt = 1.04\n",
    "    \n",
    "    def __init__(self, first, last, pay):    \n",
    "        self.first = first\n",
    "        self.last = last          \n",
    "        self.pay = pay\n",
    "        self.email = first + '.' + last + '@company.com'\n",
    "        \n",
    "        Employee.num_of_emps += 1\n",
    "    \n",
    "        \n",
    "    def fullname(self):\n",
    "        return '{} {}'.format(self.first, self.last)\n",
    "    \n",
    "    \n",
    "    def apply_raise(self):\n",
    "        self.pay = int(self.pay * self.raise_amount)      \n",
    "        \n",
    "        \n",
    "    @classmethod\n",
    "    def set_raise_amt(cls, amount):\n",
    "        cls.raise_amt = amount\n",
    "        \n",
    "        \n",
    "    @classmethod \n",
    "    def from_string(cls, emp_str):           # form_string  --- alternative constructor\n",
    "        first, last, pay = emp_str.split('-')\n",
    "        return cls(first, last, pay)\n",
    "        \n",
    "        \n",
    "        \n",
    "emp_1 = Employee('Joy','Shringi', 50000)\n",
    "emp_2 = Employee('Test','User', 60000) \n",
    "\n",
    "\n",
    "\n",
    "## This task of creating new employee everytime is repetetive\n",
    "# Here we will create a new constructor (form_string) for the same so that we do not have to create a new object for every employee\n",
    "emp_str_1 = 'John-Doe-70000'\n",
    "emp_str_2 = 'Steve-Smith-30000'\n",
    "emp_str_3 = 'Jane-Doe-50000'\n",
    " \n",
    "#first, last, pay = emp_str_1.split('-')  # splitting the string\n",
    "\n",
    "#new_emp_1 = Employee(first, last, pay)\n",
    "\n",
    "print(new_emp_1.email)\n",
    "print(new_emp_1.pay)"
   ]
  },
  {
   "cell_type": "markdown",
   "metadata": {},
   "source": [
    "### Static methods"
   ]
  },
  {
   "cell_type": "code",
   "execution_count": 23,
   "metadata": {},
   "outputs": [],
   "source": [
    "# Notes\n",
    "# Regular methods automatically pass in the instance as the first argument\n",
    "# Class methods automatically pass in the class(cls) as the first argument\n",
    "# And Static methods DON'T pass anything automatically"
   ]
  },
  {
   "cell_type": "code",
   "execution_count": 28,
   "metadata": {},
   "outputs": [
    {
     "name": "stdout",
     "output_type": "stream",
     "text": [
      "True\n"
     ]
    }
   ],
   "source": [
    "class Employee:\n",
    "    \n",
    "    num_of_emps = 0\n",
    "    raise_amt = 1.04\n",
    "    \n",
    "    def __init__(self, first, last, pay):    \n",
    "        self.first = first\n",
    "        self.last = last          \n",
    "        self.pay = pay\n",
    "        self.email = first + '.' + last + '@company.com'\n",
    "        \n",
    "        Employee.num_of_emps += 1\n",
    "    \n",
    "        \n",
    "    def fullname(self):\n",
    "        return '{} {}'.format(self.first, self.last)\n",
    "    \n",
    "    \n",
    "    def apply_raise(self):\n",
    "        self.pay = int(self.pay * self.raise_amount)      \n",
    "        \n",
    "        \n",
    "    @classmethod\n",
    "    def set_raise_amt(cls, amount):\n",
    "        cls.raise_amt = amount\n",
    "        \n",
    "        \n",
    "    @classmethod \n",
    "    def from_string(cls, emp_str):           # form_string  --- alternative constructor\n",
    "        first, last, pay = emp_str.split('-')\n",
    "        return cls(first, last, pay)\n",
    "        \n",
    "    @staticmethod\n",
    "    def is_workday(day):\n",
    "        if day.weekday() == 5 or day.weekday() == 6:\n",
    "            return False\n",
    "        return True\n",
    "    \n",
    "    \n",
    "        \n",
    "emp_1 = Employee('Joy','Shringi', 50000)\n",
    "emp_2 = Employee('Test','User', 60000) \n",
    "\n",
    "import datetime\n",
    "my_date = datetime.date(2020, 10, 9)       # 09/Oct/2020\n",
    "\n",
    "print(Employee.is_workday(my_date))"
   ]
  },
  {
   "cell_type": "markdown",
   "metadata": {},
   "source": [
    "#### Python OOP Tutorial 4: Inheritance - Creating Subclasses"
   ]
  },
  {
   "cell_type": "code",
   "execution_count": 4,
   "metadata": {},
   "outputs": [
    {
     "name": "stdout",
     "output_type": "stream",
     "text": [
      "Help on class Developer in module __main__:\n",
      "\n",
      "class Developer(Employee)\n",
      " |  Developer(first, last, pay)\n",
      " |  \n",
      " |  Method resolution order:\n",
      " |      Developer\n",
      " |      Employee\n",
      " |      builtins.object\n",
      " |  \n",
      " |  Methods inherited from Employee:\n",
      " |  \n",
      " |  __init__(self, first, last, pay)\n",
      " |      Initialize self.  See help(type(self)) for accurate signature.\n",
      " |  \n",
      " |  apply_raise(self)\n",
      " |  \n",
      " |  fullname(self)\n",
      " |  \n",
      " |  ----------------------------------------------------------------------\n",
      " |  Data descriptors inherited from Employee:\n",
      " |  \n",
      " |  __dict__\n",
      " |      dictionary for instance variables (if defined)\n",
      " |  \n",
      " |  __weakref__\n",
      " |      list of weak references to the object (if defined)\n",
      " |  \n",
      " |  ----------------------------------------------------------------------\n",
      " |  Data and other attributes inherited from Employee:\n",
      " |  \n",
      " |  raise_amt = 1.04\n",
      "\n",
      "None\n"
     ]
    }
   ],
   "source": [
    "class Employee:\n",
    "    \n",
    "    raise_amt = 1.04\n",
    "    \n",
    "    def __init__(self, first, last, pay):    \n",
    "        self.first = first\n",
    "        self.last = last          \n",
    "        self.pay = pay\n",
    "        self.email = first + '.' + last + '@XYZ.com'\n",
    "        \n",
    "          \n",
    "        \n",
    "    def fullname(self):\n",
    "        return '{} {}'.format(self.first, self.last)\n",
    "    \n",
    "    \n",
    "    def apply_raise(self):\n",
    "        self.pay = int(self.pay * self.raise_amount)      \n",
    "        \n",
    "\n",
    "class Developer(Employee):\n",
    "    pass\n",
    "        \n",
    "dev_1 = Developer('Corey','Schafer', 50000)\n",
    "dev_2 = Developer('Test','Employee', 60000) \n",
    "\n",
    "print(help(Developer))\n",
    "\n",
    "# print(dev_1.email)\n",
    "# print(dev_2.email)"
   ]
  },
  {
   "cell_type": "code",
   "execution_count": 24,
   "metadata": {},
   "outputs": [
    {
     "data": {
      "text/plain": [
       "False"
      ]
     },
     "execution_count": 24,
     "metadata": {},
     "output_type": "execute_result"
    }
   ],
   "source": [
    "class Employee:\n",
    "    \n",
    "    raise_amt = 1.04\n",
    "    \n",
    "    def __init__(self, first, last, pay):    \n",
    "        self.first = first\n",
    "        self.last = last          \n",
    "        self.pay = pay\n",
    "        self.email = first + '.' + last + '@XYZ.com'\n",
    "        \n",
    "          \n",
    "        \n",
    "    def fullname(self):\n",
    "        return '{} {}'.format(self.first, self.last)\n",
    "    \n",
    "    \n",
    "    def apply_raise(self):\n",
    "        self.pay = int(self.pay * self.raise_amt)      \n",
    "     \n",
    "    \n",
    "\n",
    "class Developer(Employee):\n",
    "    raise_amt = 1.10\n",
    "    \n",
    "    def __init__(self, first, last, pay, prog_lang):\n",
    "        super().__init__(first, last, pay)\n",
    "     #  Employee.__init__(self, first, last, pay)           ## Another way of inheriting __init__() arguments\n",
    "        self.prog_lang = prog_lang\n",
    "\n",
    "        \n",
    "class Manager(Employee):\n",
    "    \n",
    "    def __init__(self, first, last, pay, employees=None):\n",
    "        super().__init__(first, last, pay)\n",
    "        if employees is None:\n",
    "            self.employees = []\n",
    "        else:\n",
    "            self.employees = employees\n",
    "\n",
    "    \n",
    "    def add_emp(self, emp):\n",
    "        if emp not in self.employees:\n",
    "            self.employees.append(emp)\n",
    "            \n",
    "    def remove_emp(self, emp):\n",
    "        if emp in self.employees:\n",
    "            self.employees.remove(emp)\n",
    "            \n",
    "    def print_emps(self):\n",
    "        for emp in self.employees:\n",
    "            print('--->', emp.fullname())\n",
    "    \n",
    "dev_1 = Developer('Corey','Schafer', 50000, 'Python')\n",
    "dev_2 = Developer('Test','Employee', 60000, 'Java') \n",
    "\n",
    "\n",
    "mgr_1 = Manager('Sue', 'Smith', 90000, [dev_1])\n",
    "\n",
    "\n",
    "print(mgr_1.email)\n",
    "\n",
    "mgr_1.add_emp(dev_2)\n",
    "mgr_1.remove_emp(dev_1)\n",
    "\n",
    "mgr_1.print_emps()\n",
    "\n",
    "\n",
    "# print(dev_1.pay) \n",
    "# dev_1.apply_raise()      # Now this will take developer class attribute \"raise_amt\" value. This value depends on whose instance is created.\n",
    "# print(dev_1.pay)         # If Employee instance is created then 1.04 value will be considered and if Developer instance is created then 1.10 value will be taken into account.\n",
    "\n",
    "# print(dev_1.email)\n",
    "# print(dev_1.prog_lang)\n",
    "\n"
   ]
  },
  {
   "cell_type": "markdown",
   "metadata": {},
   "source": [
    "#### IsInstance and IsSubclass Methods :-"
   ]
  },
  {
   "cell_type": "code",
   "execution_count": null,
   "metadata": {},
   "outputs": [],
   "source": [
    "\n",
    "# isinstance(mgr_1, Manager)    #True\n",
    "# isinstance(mgr_1, Employee)    #True\n",
    "# isinstance(mgr_1, Developer)    #False\n",
    " \n",
    "issubclass(Developer, Employee)   #True\n",
    "# issubclass(Developer, Manager)   #False\n",
    "# issubclass(Manager, Employee)     #True"
   ]
  },
  {
   "cell_type": "markdown",
   "metadata": {},
   "source": [
    "####  Python OOP Tutorial 5: Special (Magic/Dunder) Methods"
   ]
  },
  {
   "cell_type": "code",
   "execution_count": 50,
   "metadata": {},
   "outputs": [
    {
     "name": "stdout",
     "output_type": "stream",
     "text": [
      "Employee('Joy', 'Shringi', 50000)\n",
      "Joy Shringi - Joy.Shringi@company.com\n"
     ]
    }
   ],
   "source": [
    "class Employee:\n",
    "    \n",
    "    raise_amt = 1.04\n",
    "    \n",
    "    def __init__(self, first, last, pay):    \n",
    "        self.first = first\n",
    "        self.last = last          \n",
    "        self.pay = pay\n",
    "        self.email = first + '.' + last + '@company.com'\n",
    "        \n",
    "                \n",
    "    def fullname(self):\n",
    "        return '{} {}'.format(self.first, self.last)\n",
    "    \n",
    "    \n",
    "    def apply_raise(self):\n",
    "        self.pay = int(self.pay * self.raise_amt)      \n",
    "\n",
    "    def __repr__(self):\n",
    "        return \"Employee('{}', '{}', {})\".format(self.first, self.last, self.pay) \n",
    "    \n",
    "    def __str__(self):\n",
    "        return '{} - {}'.format(self.fullname(), self.email)\n",
    "    \n",
    "    def __add__(self, other):\n",
    "        return self.pay + other.pay\n",
    "    \n",
    "    def __len__(self):\n",
    "        return len(self.fullname())\n",
    "        \n",
    "emp_1 = Employee('Joy','Shringi', 50000)    \n",
    "emp_2 = Employee('Test','User', 60000)   \n",
    "    \n",
    "# print(emp_1)\n",
    "\n",
    "print(emp_1.__repr__())\n",
    "print(emp_1.__str__())"
   ]
  },
  {
   "cell_type": "code",
   "execution_count": 48,
   "metadata": {},
   "outputs": [
    {
     "name": "stdout",
     "output_type": "stream",
     "text": [
      "3\n",
      "3\n",
      "ab\n"
     ]
    }
   ],
   "source": [
    "print(1+2)\n",
    "\n",
    "print(int.__add__(1, 2))\n",
    "\n",
    "print(str.__add__('a', 'b'))"
   ]
  },
  {
   "cell_type": "code",
   "execution_count": 51,
   "metadata": {},
   "outputs": [
    {
     "name": "stdout",
     "output_type": "stream",
     "text": [
      "110000\n",
      "11\n"
     ]
    }
   ],
   "source": [
    "# Dunder add() function\n",
    "# Dunder len() function\n",
    "\n",
    "print(emp_1 + emp_2)\n",
    "\n",
    "\n",
    "# print(len('Test'))\n",
    "# print('test'.__len__())    # same as above\n",
    "\n",
    "print(len(emp_1))"
   ]
  },
  {
   "cell_type": "markdown",
   "metadata": {},
   "source": [
    "#### Python OOP Tutorial 6: Property Decorators - Getters, Setters, and Deleters"
   ]
  },
  {
   "cell_type": "code",
   "execution_count": 67,
   "metadata": {},
   "outputs": [
    {
     "name": "stdout",
     "output_type": "stream",
     "text": [
      "Harshad Shringi\n",
      "Deleted Name !\n"
     ]
    }
   ],
   "source": [
    "# incase of email, when we want to change the email address but cannot be done as it already has first value assigned and new \n",
    "# value does not show up. We can make email() method just like fullname and voila!! \n",
    "\n",
    "\n",
    "# But with the help of decorator (property), we can use email function as an attribute to access email property. \n",
    "\n",
    "class Employee:\n",
    "    \n",
    "    def __init__(self, first, last):\n",
    "        self.first = first\n",
    "        self.last = last\n",
    "#         self.email = first + '.' + last + '@email.com'\n",
    "\n",
    "    @property\n",
    "    def email(self):\n",
    "        return '{}.{}@email.com'.format(self.first, self.last)\n",
    "    \n",
    "    @property\n",
    "    def fullname(self):\n",
    "        return '{} {}'.format(self.first, self.last)\n",
    "    \n",
    "    @fullname.setter\n",
    "    def fullname(self, name):\n",
    "        first, last = name.split(' ')   # splitting happns on space in between the name\n",
    "        self.first = first\n",
    "        self.last = last\n",
    "        \n",
    "    @fullname.deleter\n",
    "    def fullname(self):\n",
    "        print('Deleted Name !')\n",
    "        self.first = None\n",
    "        self.last = None\n",
    "    \n",
    "emp1 = Employee('John', 'Smith')\n",
    "\n",
    "# emp1.first = 'Joy'\n",
    "\n",
    "emp1.fullname = 'Harshad Shringi'\n",
    "\n",
    "\"\"\"\n",
    "print(emp1.first)\n",
    "# print(emp1.email)\n",
    "# print(emp1.fullname())\n",
    "\n",
    "\n",
    "# print(emp1.email())\n",
    "\n",
    "print(emp1.email)\n",
    "print(emp1.fullname)\n",
    "\"\"\"\n",
    "\n",
    "print(emp1.fullname)\n",
    "\n",
    "del emp1.fullname"
   ]
  },
  {
   "cell_type": "code",
   "execution_count": null,
   "metadata": {},
   "outputs": [],
   "source": [
    "# decorators are used to access methods as attribute \n",
    "# In order to set the methods we need to make setter decorators as above."
   ]
  }
 ],
 "metadata": {
  "kernelspec": {
   "display_name": "Python 3",
   "language": "python",
   "name": "python3"
  },
  "language_info": {
   "codemirror_mode": {
    "name": "ipython",
    "version": 3
   },
   "file_extension": ".py",
   "mimetype": "text/x-python",
   "name": "python",
   "nbconvert_exporter": "python",
   "pygments_lexer": "ipython3",
   "version": "3.8.3"
  }
 },
 "nbformat": 4,
 "nbformat_minor": 4
}
