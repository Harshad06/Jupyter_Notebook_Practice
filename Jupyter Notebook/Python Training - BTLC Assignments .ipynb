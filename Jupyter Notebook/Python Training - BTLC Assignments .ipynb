{
 "cells": [
  {
   "cell_type": "markdown",
   "metadata": {},
   "source": [
    "# Day 1 Assignments"
   ]
  },
  {
   "cell_type": "markdown",
   "metadata": {},
   "source": [
    "#### Question 1"
   ]
  },
  {
   "cell_type": "code",
   "execution_count": 1,
   "metadata": {},
   "outputs": [],
   "source": [
    "# 1. Create a program that asks the user to enter their name and their age. Print out a message\n",
    "# addressed to them that tells them the year that they will turn 100 years old. "
   ]
  },
  {
   "cell_type": "code",
   "execution_count": 2,
   "metadata": {},
   "outputs": [
    {
     "name": "stdout",
     "output_type": "stream",
     "text": [
      "Enter your name: Joy\n",
      "Enter your age: 20\n",
      "Enter current year: 2020\n",
      "Hello Joy  \n",
      "You will turn 100 years old in year:  2100\n"
     ]
    }
   ],
   "source": [
    "name = input(\"Enter your name: \")\n",
    "age = input(\"Enter your age: \")\n",
    "# print(name)\n",
    "# print(age)\n",
    "\n",
    "#current_year = 2020\n",
    "current_year = int(input(\"Enter current year: \"))\n",
    "diff_year = 100 - int(age)\n",
    "result = current_year + diff_year\n",
    "\n",
    "#print(\"You will turn 100 years old in year:\", result)\n",
    "\n",
    "print(\"Hello\", name,\" \\nYou will turn 100 years old in year: \", result)"
   ]
  },
  {
   "cell_type": "markdown",
   "metadata": {},
   "source": [
    "#### Question 2"
   ]
  },
  {
   "cell_type": "code",
   "execution_count": null,
   "metadata": {},
   "outputs": [],
   "source": [
    "#Take a list, say for example this one:\n",
    "#  a = [1, 1, 2, 3, 5, 8, 13, 21, 34, 55, 89]\n",
    "# and write a program that prints out all the elements of the list that are less than 5. "
   ]
  },
  {
   "cell_type": "code",
   "execution_count": 1,
   "metadata": {},
   "outputs": [
    {
     "name": "stdout",
     "output_type": "stream",
     "text": [
      "The List : [1, 1, 2, 3, 5, 8, 13, 21, 34, 55, 89]\n",
      "1\n",
      "1\n",
      "2\n",
      "3\n",
      "The numbers lesser than 5 : 4\n"
     ]
    }
   ],
   "source": [
    "a = [1, 1, 2, 3, 5, 8, 13, 21, 34, 55, 89]\n",
    "\n",
    "# initializing k \n",
    "k = 5\n",
    "\n",
    "# printing list \n",
    "print(\"The List : \" +str(a))\n",
    "\n",
    "# to get numbers < k \n",
    "count = 0\n",
    "for i in a:\n",
    "    if i < k:\n",
    "        count = count + 1\n",
    "        print(i)\n",
    "        \n",
    "# printing the intersection  \n",
    "print (\"The numbers lesser than 5 : \" + str(count)) "
   ]
  },
  {
   "cell_type": "markdown",
   "metadata": {},
   "source": [
    "#### Question 3"
   ]
  },
  {
   "cell_type": "code",
   "execution_count": null,
   "metadata": {},
   "outputs": [],
   "source": [
    "# Check if a given key already exists in a dictionary\n",
    "\n",
    "# d = {1: 10, 2: 20, 3: 30, 4: 40, 5: 50, 6: 60}  "
   ]
  },
  {
   "cell_type": "code",
   "execution_count": 11,
   "metadata": {},
   "outputs": [
    {
     "name": "stdout",
     "output_type": "stream",
     "text": [
      "-------------Method 1-----------------\n",
      "Key Present, value = 60\n",
      "Key Not Present\n",
      "-------------Method 2-----------------\n",
      "Present,  value = 40\n",
      "Not present\n"
     ]
    }
   ],
   "source": [
    "print(\"-------------Method 1-----------------\")\n",
    "#### Method 1\n",
    "def checkKey(dict, key):\n",
    "    \n",
    "    if key in dict.keys():\n",
    "        # print(\"Key Present, \", end=\" \")\n",
    "        print(\"Key Present, value =\", dict[key])\n",
    "        # print(\"value =\", dict[key])\n",
    "    else:\n",
    "        print(\"Key Not Present\")\n",
    "\n",
    "dict = {1: 10, 2: 20, 3: 30, 4: 40, 5: 50, 6: 60}\n",
    "\n",
    "checkKey(dict, 6)\n",
    "checkKey(dict, 10)\n",
    "#-------------------------------\n",
    "print(\"-------------Method 2-----------------\")\n",
    "#### Method 2\n",
    "def checkKey(dict, key): \n",
    "      \n",
    "    if key in dict: \n",
    "        print(\"Key Present, value =\", dict[key])\n",
    "    else: \n",
    "        print(\"Not present\") \n",
    "  \n",
    "# Driver Code \n",
    "dict = {1: 10, 2: 20, 3: 30, 4: 40, 5: 50, 6: 60}\n",
    "  \n",
    "key = 4\n",
    "checkKey(dict, key) \n",
    "  \n",
    "key = 'w'\n",
    "checkKey(dict, key) "
   ]
  },
  {
   "cell_type": "markdown",
   "metadata": {},
   "source": [
    "#### Question 4"
   ]
  },
  {
   "cell_type": "code",
   "execution_count": null,
   "metadata": {},
   "outputs": [],
   "source": [
    "# Write a Python script to merge two Python dictionaries"
   ]
  },
  {
   "cell_type": "code",
   "execution_count": null,
   "metadata": {},
   "outputs": [],
   "source": [
    "#### Method 1\n",
    "def Merge(dict1, dict2):\n",
    "    return(dict2.update(dict1))\n",
    "\n",
    "\n",
    "dict1 = {1: 10, 2: 20, 3: 30} \n",
    "dict2 = {4: 40, 5: 50, 6: 60}\n",
    "\n",
    "Merge(dict1, dict2)\n",
    "\n",
    "print(dict2)\n",
    "\n",
    "#-----------------------------------\n",
    "#### Method 2\n",
    "def Merge(d1, d2):\n",
    "    res = {**d1, **d2}\n",
    "    return res\n",
    "\n",
    "d1 = {1: 10, 2: 20, 3: 30} \n",
    "d2 = {4: 40, 5: 50, 6: 60}\n",
    "d3 = Merge(d1, d2)\n",
    "print(d3)"
   ]
  }
 ],
 "metadata": {
  "kernelspec": {
   "display_name": "Python 3",
   "language": "python",
   "name": "python3"
  },
  "language_info": {
   "codemirror_mode": {
    "name": "ipython",
    "version": 3
   },
   "file_extension": ".py",
   "mimetype": "text/x-python",
   "name": "python",
   "nbconvert_exporter": "python",
   "pygments_lexer": "ipython3",
   "version": "3.8.3"
  }
 },
 "nbformat": 4,
 "nbformat_minor": 4
}
